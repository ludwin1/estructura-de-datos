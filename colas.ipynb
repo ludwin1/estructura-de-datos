{
  "nbformat": 4,
  "nbformat_minor": 0,
  "metadata": {
    "colab": {
      "name": "colas.ipynb",
      "provenance": [],
      "authorship_tag": "ABX9TyN+77Y8OfLlKE1x7z67P9/s",
      "include_colab_link": true
    },
    "kernelspec": {
      "name": "python3",
      "display_name": "Python 3"
    },
    "language_info": {
      "name": "python"
    }
  },
  "cells": [
    {
      "cell_type": "markdown",
      "metadata": {
        "id": "view-in-github",
        "colab_type": "text"
      },
      "source": [
        "<a href=\"https://colab.research.google.com/github/ludwin1/estructura-de-datos/blob/main/colas.ipynb\" target=\"_parent\"><img src=\"https://colab.research.google.com/assets/colab-badge.svg\" alt=\"Open In Colab\"/></a>"
      ]
    },
    {
      "cell_type": "code",
      "metadata": {
        "id": "02fhESO5rh6Q"
      },
      "source": [
        "class QueueADT:\n",
        "  def __init__(self):\n",
        "    self.__data = []\n",
        "  def is_empty(self):\n",
        "    return len (self.__data) == 0\n",
        "\n",
        "  def length (self):\n",
        "    return len(self.__data)\n",
        "\n",
        "  def enqueue (self ,  elem):\n",
        "    self.__data.append(elem)\n",
        "  \n",
        "  def dequeue(self):\n",
        "    if not self.is_empty():\n",
        "      return self.__data.pop(0)\n",
        "\n",
        "  def to_string(self ):\n",
        "    for elem in self.__data:\n",
        "      print(f\"|{elem}|<--\", end= \"\")\n",
        "    print(\"\")\n",
        "    "
      ],
      "execution_count": null,
      "outputs": []
    },
    {
      "cell_type": "code",
      "metadata": {
        "colab": {
          "base_uri": "https://localhost:8080/"
        },
        "id": "Mjf39qdfvtxU",
        "outputId": "ddc28806-1948-40e4-f80f-d162ecc1cddf"
      },
      "source": [
        "cola = QueueADT()\n",
        "print(\"esta vacio?\", cola.is_empty())\n",
        "print(\"#de elementos\", cola.length())\n",
        "cola.enqueue(10)\n",
        "cola.to_string()\n",
        "print(\".-.-.-.-.-.-.\")\n",
        "cola.enqueue(20)\n",
        "cola.enqueue(30)\n",
        "cola.enqueue(40)\n",
        "cola.to_string()\n",
        "siguiente = cola.dequeue()\n",
        "print(\"\\n atendiendo a:\", siguiente)\n",
        "cola.to_string()"
      ],
      "execution_count": null,
      "outputs": [
        {
          "output_type": "stream",
          "name": "stdout",
          "text": [
            "esta vacio? True\n",
            "#de elementos 0\n",
            "|10|<--.-.-.-.-.-.-.\n",
            "|10|<--|20|<--|30|<--|40|<--\n",
            " atendiendo a: 10\n",
            "|20|<--|30|<--|40|<--"
          ]
        }
      ]
    }
  ]
}