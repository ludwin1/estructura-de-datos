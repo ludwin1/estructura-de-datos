{
  "nbformat": 4,
  "nbformat_minor": 0,
  "metadata": {
    "colab": {
      "name": "colas.ipynb",
      "provenance": [],
      "authorship_tag": "ABX9TyOS+Xkesqp4VERr8UKps5pa",
      "include_colab_link": true
    },
    "kernelspec": {
      "name": "python3",
      "display_name": "Python 3"
    },
    "language_info": {
      "name": "python"
    }
  },
  "cells": [
    {
      "cell_type": "markdown",
      "metadata": {
        "id": "view-in-github",
        "colab_type": "text"
      },
      "source": [
        "<a href=\"https://colab.research.google.com/github/ludwin1/estructura-de-datos/blob/main/colas.ipynb\" target=\"_parent\"><img src=\"https://colab.research.google.com/assets/colab-badge.svg\" alt=\"Open In Colab\"/></a>"
      ]
    },
    {
      "cell_type": "code",
      "metadata": {
        "id": "02fhESO5rh6Q"
      },
      "source": [
        "class QueueADT:\n",
        "  def __init__(self):\n",
        "    self.__data = []\n",
        "  def is_empty(self):\n",
        "    return len (self.__data) == 0\n",
        "\n",
        "  def length (self):\n",
        "    return len(self.__data)\n",
        "\n",
        "  def enqueue (self ,  elem):\n",
        "    self.__data.append(elem)\n",
        "  \n",
        "  def dequeue(self):\n",
        "    if not self.is_empty():\n",
        "      return self.__data.pop(0)\n",
        "\n",
        "  def to_string(self ):\n",
        "    for elem in self.__data:\n",
        "      print(f\"|{elem}|<--\", end= \"\")\n",
        "    print(\"\")\n",
        "    "
      ],
      "execution_count": null,
      "outputs": []
    },
    {
      "cell_type": "code",
      "metadata": {
        "colab": {
          "base_uri": "https://localhost:8080/"
        },
        "id": "Mjf39qdfvtxU",
        "outputId": "a1834d9d-7d69-484c-b30a-57098478dfa4"
      },
      "source": [
        "cola = QueueADT()\n",
        "print(\"esta vacio?\", cola.is_empty())\n",
        "print(\"#de elementos\", cola.length())\n",
        "cola.enqueue(10)\n",
        "cola.to_string()\n",
        "print(\".-.-.-.-.-.-.\")\n",
        "cola.enqueue(20)\n",
        "cola.enqueue(30)\n",
        "cola.enqueue(40)\n",
        "cola.to_string()\n",
        "siguiente = cola.dequeue()\n",
        "print(\"\\n atendiendo a:\", siguiente)\n",
        "cola.to_string()"
      ],
      "execution_count": null,
      "outputs": [
        {
          "output_type": "stream",
          "name": "stdout",
          "text": [
            "esta vacio? True\n",
            "#de elementos 0\n",
            "|10|<--\n",
            ".-.-.-.-.-.-.\n",
            "|10|<--|20|<--|30|<--|40|<--\n",
            "\n",
            " atendiendo a: 10\n",
            "|20|<--|30|<--|40|<--\n"
          ]
        }
      ]
    },
    {
      "cell_type": "code",
      "metadata": {
        "id": "sMDfDEwW-cpj"
      },
      "source": [
        "class ColaPrioridadAcotada:\n",
        "  def __init__(self , niveles):\n",
        "    self.__data = [QueueADT() for x in range(niveles)]\n",
        "    self.length = 0 # el numero de elementos encolados\n",
        "  \n",
        "  def is_empty(self):\n",
        "    return self.length == 0\n",
        "  def length (self ):\n",
        "    return self.length \n",
        "  def enqueue (self, prioridad , elem):\n",
        "    if prioridad >= 0 and prioridad < len(self.__data):\n",
        "      self.__data[prioridad].enqueue(elem)\n",
        "      self.length += 1\n",
        "\n",
        "  def to_string (self ):\n",
        "    for p in range(len(self._data)):\n",
        "      print(f\"prioridad {p}-->\", end= \"\")\n",
        "      self.__data[p].to_string()\n",
        "  def enqueue(self):\n",
        "    for nivel in self.__data:\n",
        "      if not nivel.is_empty():\n",
        "        self.length -= 1\n",
        "        return nivel.dequeue()"
      ],
      "execution_count": null,
      "outputs": []
    },
    {
      "cell_type": "code",
      "metadata": {
        "colab": {
          "base_uri": "https://localhost:8080/",
          "height": 245
        },
        "id": "fqEaPRpMCnBY",
        "outputId": "54fbde14-c5f7-4494-9361-368a49e5ba01"
      },
      "source": [
        "cpa = ColaPrioridadAcotada( 7 )\n",
        "cpa.enqueue(4 , \"A\")\n",
        "cpa.enqueue(2 , \"Z\")\n",
        "cpa.enqueue(4 , \"N\")\n",
        "cpa.enqueue(1 , \"P\")\n",
        "cpa.to_string()\n",
        "print(\".--.-..--.-.-.-.-.-\")\n"
      ],
      "execution_count": null,
      "outputs": [
        {
          "output_type": "error",
          "ename": "TypeError",
          "evalue": "ignored",
          "traceback": [
            "\u001b[0;31m---------------------------------------------------------------------------\u001b[0m",
            "\u001b[0;31mTypeError\u001b[0m                                 Traceback (most recent call last)",
            "\u001b[0;32m<ipython-input-30-eb8957521727>\u001b[0m in \u001b[0;36m<module>\u001b[0;34m()\u001b[0m\n\u001b[1;32m      1\u001b[0m \u001b[0mcpa\u001b[0m \u001b[0;34m=\u001b[0m \u001b[0mColaPrioridadAcotada\u001b[0m\u001b[0;34m(\u001b[0m \u001b[0;36m7\u001b[0m \u001b[0;34m)\u001b[0m\u001b[0;34m\u001b[0m\u001b[0;34m\u001b[0m\u001b[0m\n\u001b[0;32m----> 2\u001b[0;31m \u001b[0mcpa\u001b[0m\u001b[0;34m.\u001b[0m\u001b[0menqueue\u001b[0m\u001b[0;34m(\u001b[0m\u001b[0;36m4\u001b[0m \u001b[0;34m,\u001b[0m \u001b[0;34m\"A\"\u001b[0m\u001b[0;34m)\u001b[0m\u001b[0;34m\u001b[0m\u001b[0;34m\u001b[0m\u001b[0m\n\u001b[0m\u001b[1;32m      3\u001b[0m \u001b[0mcpa\u001b[0m\u001b[0;34m.\u001b[0m\u001b[0menqueue\u001b[0m\u001b[0;34m(\u001b[0m\u001b[0;36m2\u001b[0m \u001b[0;34m,\u001b[0m \u001b[0;34m\"Z\"\u001b[0m\u001b[0;34m)\u001b[0m\u001b[0;34m\u001b[0m\u001b[0;34m\u001b[0m\u001b[0m\n\u001b[1;32m      4\u001b[0m \u001b[0mcpa\u001b[0m\u001b[0;34m.\u001b[0m\u001b[0menqueue\u001b[0m\u001b[0;34m(\u001b[0m\u001b[0;36m4\u001b[0m \u001b[0;34m,\u001b[0m \u001b[0;34m\"N\"\u001b[0m\u001b[0;34m)\u001b[0m\u001b[0;34m\u001b[0m\u001b[0;34m\u001b[0m\u001b[0m\n\u001b[1;32m      5\u001b[0m \u001b[0mcpa\u001b[0m\u001b[0;34m.\u001b[0m\u001b[0menqueue\u001b[0m\u001b[0;34m(\u001b[0m\u001b[0;36m1\u001b[0m \u001b[0;34m,\u001b[0m \u001b[0;34m\"P\"\u001b[0m\u001b[0;34m)\u001b[0m\u001b[0;34m\u001b[0m\u001b[0;34m\u001b[0m\u001b[0m\n",
            "\u001b[0;31mTypeError\u001b[0m: enqueue() takes 1 positional argument but 3 were given"
          ]
        }
      ]
    },
    {
      "cell_type": "code",
      "metadata": {
        "id": "XV50_g4oH1bR"
      },
      "source": [
        "class ColaPrioridad:\n",
        "  def __init__(self):\n",
        "    self.__data = []\n",
        "    self.__length = 0\n",
        "  def is_empty(self):\n",
        "    return self.length == 0\n",
        "  def length (self ):\n",
        "    return self.length \n",
        "\n",
        "  def enqueue (self, prioridad, elem):\n",
        "    existe = False\n",
        "    indice = 0\n",
        "    for index in range(len(self.__data)) :\n",
        "      if self.__data[index][\"p\"]== prioridad:\n",
        "        existe = True\n",
        "        indice = index\n",
        "        break\n",
        "      if existe:\n",
        "        self.__data[indice][\"cola\"].enqueue(elem)\n",
        "      else:\n",
        "        self.__data[indice].append({\"p\":prioridad, \"cola\":QueueADT()})\n",
        "        self.__data[-1][\"cola\"].enqueue(elem)\n",
        "\n",
        "  def to_string(self):\n",
        "    for level in self.__data:\n",
        "      print(level[\"p\"], end=\"<--\")\n",
        "      level[\"cola\"].to_string()"
      ],
      "execution_count": null,
      "outputs": []
    },
    {
      "cell_type": "code",
      "metadata": {
        "id": "sy8RAJBlJSo2"
      },
      "source": [
        "cp= ColaPrioridad()\n",
        "cp.enqueue(2,\"A\")\n",
        "cp.enqueue(4, \"Z\")\n",
        "cp.enqueue(1, \"R\")\n",
        "cp.enqueue(2, \"B\")\n",
        "cp.enqueue(4, \"Y\")\n",
        "cp.to_string()\n"
      ],
      "execution_count": null,
      "outputs": []
    }
  ]
}