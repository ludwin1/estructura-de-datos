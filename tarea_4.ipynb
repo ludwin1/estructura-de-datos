{
  "nbformat": 4,
  "nbformat_minor": 0,
  "metadata": {
    "colab": {
      "name": "tarea 4",
      "provenance": [],
      "authorship_tag": "ABX9TyPv6TbMAhJoF6K4cdK+/J12",
      "include_colab_link": true
    },
    "kernelspec": {
      "name": "python3",
      "display_name": "Python 3"
    },
    "language_info": {
      "name": "python"
    }
  },
  "cells": [
    {
      "cell_type": "markdown",
      "metadata": {
        "id": "view-in-github",
        "colab_type": "text"
      },
      "source": [
        "<a href=\"https://colab.research.google.com/github/ludwin1/estructura-de-datos/blob/main/tarea_4.ipynb\" target=\"_parent\"><img src=\"https://colab.research.google.com/assets/colab-badge.svg\" alt=\"Open In Colab\"/></a>"
      ]
    },
    {
      "cell_type": "code",
      "metadata": {
        "id": "TDttE2brndji",
        "colab": {
          "base_uri": "https://localhost:8080/"
        },
        "outputId": "ee685ab5-8f25-4e13-e167-6f315c986e8e"
      },
      "source": [
        "\n",
        "column, row = 3, 5\n",
        "lista = [[0 for _ in range(row)] for _ in range(column)]\n",
        "lista\n",
        "[[0, 0, 0, 0, 0], [0, 0, 0, 0, 0], [0, 0, 0, 0, 0]]\n",
        "lista[1][2]=\"hola\"#equivalente a set item\n",
        "print(lista)\n",
        "for row in lista:#imprimir los datos de lalista\n",
        "  for item in row:\n",
        "    print(item)\n"
      ],
      "execution_count": null,
      "outputs": [
        {
          "output_type": "stream",
          "name": "stdout",
          "text": [
            "[[0, 0, 0, 0, 0], [0, 0, 'hola', 0, 0], [0, 0, 0, 0, 0]]\n",
            "0\n",
            "0\n",
            "0\n",
            "0\n",
            "0\n",
            "0\n",
            "0\n",
            "hola\n",
            "0\n",
            "0\n",
            "0\n",
            "0\n",
            "0\n",
            "0\n",
            "0\n"
          ]
        }
      ]
    },
    {
      "cell_type": "code",
      "metadata": {
        "id": "dP15w4wd7gnN"
      },
      "source": [
        ""
      ],
      "execution_count": null,
      "outputs": []
    }
  ]
}