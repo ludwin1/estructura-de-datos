{
  "nbformat": 4,
  "nbformat_minor": 0,
  "metadata": {
    "colab": {
      "name": "arboles.ipynb",
      "provenance": [],
      "authorship_tag": "ABX9TyPsyciZYkqW/yqiYLk/jiQ1",
      "include_colab_link": true
    },
    "kernelspec": {
      "name": "python3",
      "display_name": "Python 3"
    },
    "language_info": {
      "name": "python"
    }
  },
  "cells": [
    {
      "cell_type": "markdown",
      "metadata": {
        "id": "view-in-github",
        "colab_type": "text"
      },
      "source": [
        "<a href=\"https://colab.research.google.com/github/ludwin1/estructura-de-datos/blob/main/arboles.ipynb\" target=\"_parent\"><img src=\"https://colab.research.google.com/assets/colab-badge.svg\" alt=\"Open In Colab\"/></a>"
      ]
    },
    {
      "cell_type": "code",
      "metadata": {
        "id": "F4OHbKpSt09m"
      },
      "source": [
        "class BinaryNode:\n",
        "  def __init__(self, value , left=None , rigth= None):\n",
        "    self.data = value\n",
        "    self.left = left\n",
        "    self.rigth = rigth"
      ],
      "execution_count": null,
      "outputs": []
    },
    {
      "cell_type": "code",
      "metadata": {
        "id": "Q_QA8OY6ulgL"
      },
      "source": [
        "\n",
        "class TernaryNode:\n",
        "  def __init__(self, value , left=None , rigth= None,center= None):\n",
        "    self.data = value\n",
        "    self.left = left\n",
        "    self.center = center\n",
        "    self.rigth = rigth\n"
      ],
      "execution_count": null,
      "outputs": []
    },
    {
      "cell_type": "code",
      "metadata": {
        "colab": {
          "base_uri": "https://localhost:8080/"
        },
        "id": "XH8kWNSdvJ8z",
        "outputId": "e720ba24-f3bc-44a0-e86a-df64b4560c35"
      },
      "source": [
        "root = BinaryNode(\"R\",BinaryNode(\"C\"),BinaryNode(\"H\"))\n",
        "print( root.left.data )\n"
      ],
      "execution_count": null,
      "outputs": [
        {
          "output_type": "stream",
          "name": "stdout",
          "text": [
            "C\n"
          ]
        }
      ]
    },
    {
      "cell_type": "code",
      "metadata": {
        "colab": {
          "base_uri": "https://localhost:8080/"
        },
        "id": "kniTwmVIwcSf",
        "outputId": "441ff2e4-e351-48bb-c250-a974ccbcd597"
      },
      "source": [
        "root = TernaryNode(4,TernaryNode(3,TernaryNode(5,left=TernaryNode(2)),\\\n",
        "        TernaryNode(5),TernaryNode(2)), None, TernaryNode(5) ) \n",
        "print(root.left.left.left.data)\n",
        "print(\".-.--.-.-.-.-.-.-.\")\n",
        "aux = root\n",
        "while aux.left != None :\n",
        "  aux = aux.left\n",
        "print(aux.data)\n",
        "print(\".-.--.-.-.-.-.-.-.\")\n",
        "print(root.left.rigth.data)"
      ],
      "execution_count": null,
      "outputs": [
        {
          "output_type": "stream",
          "name": "stdout",
          "text": [
            "2\n",
            ".-.--.-.-.-.-.-.-.\n",
            "2\n",
            ".-.--.-.-.-.-.-.-.\n",
            "5\n"
          ]
        }
      ]
    },
    {
      "cell_type": "code",
      "metadata": {
        "colab": {
          "base_uri": "https://localhost:8080/"
        },
        "id": "ZDy3ItDD5Eqh",
        "outputId": "cb261c74-a8fa-4932-d613-c11ff0f05f51"
      },
      "source": [
        "root = BinaryNode(\"santi\",None, BinaryNode( \"jesus\",BinaryNode(\"pedro\",None, BinaryNode(\"pedro chikito\"))))\n",
        "print( root.rigth.left.rigth.data )"
      ],
      "execution_count": null,
      "outputs": [
        {
          "output_type": "stream",
          "name": "stdout",
          "text": [
            "pedro chikito\n"
          ]
        }
      ]
    },
    {
      "cell_type": "code",
      "metadata": {
        "id": "EATI9PpfdSD0"
      },
      "source": [
        "class BinaryNode:\n",
        "  def __init__(self, value , left=None , rigth= None):\n",
        "    self.data = value\n",
        "    self.left = left\n",
        "    self.rigth = rigth\n",
        "class BinarySearchTree:\n",
        "  def __init__(self ):\n",
        "    self.root = None\n",
        "  def insert (self , value):\n",
        "    if self.root == None:\n",
        "      self.root = BinaryNode(value)\n",
        "    else:\n",
        "      self.__insert_nodo(self.root , values)\n",
        "  def __insert_nodo(self,nodo ,value):\n",
        "    if nodo.data == value:\n",
        "      pass\n",
        "    elif value < nodo.data:\n",
        "      if nodo.left == None:\n",
        "        nodo.left = BinaryNode( value )\n",
        "      else:\n",
        "        self.__insert_nodo( nodo.left , value)\n",
        "    else: #ir a la derecha\n",
        "      if nodo.rigth == None:\n",
        "        nodo.rigth = BinaryNode(value )\n",
        "      else:\n",
        "        self.__insert_nodo(nodo.rigth, va)\n",
        "  def transversal(self , formato = \"posorden\"):\n",
        "    if formato == \"posorden\":\n",
        "      self.recorrido_pos(self.root)\n",
        "    elif formato ==\"preorden\":\n",
        "      self.recorrido_pre(self.root)\n",
        "    else: #inorden\n",
        "      self.recorrido_in(self.root)\n",
        "    print()\n",
        "     \n",
        "  def recorrido_pos (self, nodo ):\n",
        "    if nodo != None:\n",
        "      self.recorrido_pos(nodo.left)\n",
        "      self.recorrido_pos(nodo.rigth)\n",
        "      print(str(nodo.data))\n",
        "  def recorrido_pre(self , nodo):\n",
        "    if nodo != None:\n",
        "      self.recorrido_pre(nodo.left)\n",
        "      self.recorrido_pre(nodo.rigth)\n",
        "      print(str(nodo.data) , end=\",\")   \n",
        "  def recorrido_in(self , nodo):\n",
        "    if nodo != None :\n",
        "      self.recorrido_in(nodo.left)\n",
        "      print(str(nodo.data), end =\",\")\n",
        "      self.recorrido_in(nodo.rigth)\n",
        "  def search(self, value):\n",
        "    if self.root == None:\n",
        "      print(\"el arbol está vacío\")\n",
        "      return None\n",
        "    else:\n",
        "      self.__search(self.root , value)\n",
        "\n",
        "  def __search(self , nodo , value):\n",
        "    if nodo.data == None:\n",
        "      print(\"el dat nbo existe en el arbol\")\n",
        "      return None\n",
        "    elif nodo.data == value:\n",
        "      print(\"encontrado\")\n",
        "      return nodo\n",
        "    elif value < nodo.data:\n",
        "      return self.__buscar(nodo.left , value)\n",
        "    else:\n",
        "      return self.__buscar(nodo.rigth , value)\n",
        "  def remove(self , value):\n",
        "    if self.root == None:\n",
        "      print(\"no hay datos en arbol\")\n",
        "      return None\n",
        "    else:\n",
        "      encontrado =self.search_remove(self.root, value)\n",
        "      if encontrado.left == None and encontrado.rigth == None:\n",
        "        encontrado.data = None \n",
        "      elif encontrado.left == None or encontrado.rigth == None:\n",
        "        if encontrado.left != None :\n",
        "          guardado = int(encontrado.left.data)\n",
        "          encontrado.data = None\n",
        "          encontrado = BinaryNode(guardado)\n",
        "        if encontrado.rigth != None:\n",
        "          guardado = int(encontrado.rigth.data)\n",
        "          encontrado.data = None\n",
        "          encontrado = BinaryNode(guardado)\n",
        "  def search_remove( self, nodo, value):\n",
        "    if nodo == None:\n",
        "      return None\n",
        "    elif nodo.data == value:\n",
        "      return nodo\n",
        "    elif value < nodo.data:\n",
        "      return self.search_remove(nodo.left , value)\n",
        "    else:\n",
        "      return self.search_remove(nodo.rigth , value)\n"
      ],
      "execution_count": 1,
      "outputs": []
    },
    {
      "cell_type": "code",
      "metadata": {
        "colab": {
          "base_uri": "https://localhost:8080/",
          "height": 356
        },
        "id": "6GeH08JZncpo",
        "outputId": "17beb4a8-509b-4390-b38d-26772254d488"
      },
      "source": [
        "arb1 = BinarySearchTree()\n",
        "arb1.insert(60)\n",
        "arb1.insert(30)\n",
        "arb1.insert(15)\n",
        "arb1.insert(40)\n",
        "arb1.insert(80)\n",
        "arb1.transversal(\"posorden\")\n",
        "arb1.transversal(\"preorden\")\n",
        "arb1.transversal(\"inorden\")\n",
        "print(arb1.search(110))\n",
        "print(arb1.search(15))"
      ],
      "execution_count": 7,
      "outputs": [
        {
          "output_type": "error",
          "ename": "NameError",
          "evalue": "ignored",
          "traceback": [
            "\u001b[0;31m---------------------------------------------------------------------------\u001b[0m",
            "\u001b[0;31mNameError\u001b[0m                                 Traceback (most recent call last)",
            "\u001b[0;32m<ipython-input-7-b700e9b58162>\u001b[0m in \u001b[0;36m<module>\u001b[0;34m()\u001b[0m\n\u001b[1;32m      1\u001b[0m \u001b[0marb1\u001b[0m \u001b[0;34m=\u001b[0m \u001b[0mBinarySearchTree\u001b[0m\u001b[0;34m(\u001b[0m\u001b[0;34m)\u001b[0m\u001b[0;34m\u001b[0m\u001b[0;34m\u001b[0m\u001b[0m\n\u001b[1;32m      2\u001b[0m \u001b[0marb1\u001b[0m\u001b[0;34m.\u001b[0m\u001b[0minsert\u001b[0m\u001b[0;34m(\u001b[0m\u001b[0;36m60\u001b[0m\u001b[0;34m)\u001b[0m\u001b[0;34m\u001b[0m\u001b[0;34m\u001b[0m\u001b[0m\n\u001b[0;32m----> 3\u001b[0;31m \u001b[0marb1\u001b[0m\u001b[0;34m.\u001b[0m\u001b[0minsert\u001b[0m\u001b[0;34m(\u001b[0m\u001b[0;36m30\u001b[0m\u001b[0;34m)\u001b[0m\u001b[0;34m\u001b[0m\u001b[0;34m\u001b[0m\u001b[0m\n\u001b[0m\u001b[1;32m      4\u001b[0m \u001b[0marb1\u001b[0m\u001b[0;34m.\u001b[0m\u001b[0minsert\u001b[0m\u001b[0;34m(\u001b[0m\u001b[0;36m15\u001b[0m\u001b[0;34m)\u001b[0m\u001b[0;34m\u001b[0m\u001b[0;34m\u001b[0m\u001b[0m\n\u001b[1;32m      5\u001b[0m \u001b[0marb1\u001b[0m\u001b[0;34m.\u001b[0m\u001b[0minsert\u001b[0m\u001b[0;34m(\u001b[0m\u001b[0;36m40\u001b[0m\u001b[0;34m)\u001b[0m\u001b[0;34m\u001b[0m\u001b[0;34m\u001b[0m\u001b[0m\n",
            "\u001b[0;32m<ipython-input-1-dc1a67bd7c5b>\u001b[0m in \u001b[0;36minsert\u001b[0;34m(self, value)\u001b[0m\n\u001b[1;32m     11\u001b[0m       \u001b[0mself\u001b[0m\u001b[0;34m.\u001b[0m\u001b[0mroot\u001b[0m \u001b[0;34m=\u001b[0m \u001b[0mBinaryNode\u001b[0m\u001b[0;34m(\u001b[0m\u001b[0mvalue\u001b[0m\u001b[0;34m)\u001b[0m\u001b[0;34m\u001b[0m\u001b[0;34m\u001b[0m\u001b[0m\n\u001b[1;32m     12\u001b[0m     \u001b[0;32melse\u001b[0m\u001b[0;34m:\u001b[0m\u001b[0;34m\u001b[0m\u001b[0;34m\u001b[0m\u001b[0m\n\u001b[0;32m---> 13\u001b[0;31m       \u001b[0mself\u001b[0m\u001b[0;34m.\u001b[0m\u001b[0m__insert_nodo\u001b[0m\u001b[0;34m(\u001b[0m\u001b[0mself\u001b[0m\u001b[0;34m.\u001b[0m\u001b[0mroot\u001b[0m \u001b[0;34m,\u001b[0m \u001b[0mvalues\u001b[0m\u001b[0;34m)\u001b[0m\u001b[0;34m\u001b[0m\u001b[0;34m\u001b[0m\u001b[0m\n\u001b[0m\u001b[1;32m     14\u001b[0m   \u001b[0;32mdef\u001b[0m \u001b[0m__insert_nodo\u001b[0m\u001b[0;34m(\u001b[0m\u001b[0mself\u001b[0m\u001b[0;34m,\u001b[0m\u001b[0mnodo\u001b[0m \u001b[0;34m,\u001b[0m\u001b[0mvalue\u001b[0m\u001b[0;34m)\u001b[0m\u001b[0;34m:\u001b[0m\u001b[0;34m\u001b[0m\u001b[0;34m\u001b[0m\u001b[0m\n\u001b[1;32m     15\u001b[0m     \u001b[0;32mif\u001b[0m \u001b[0mnodo\u001b[0m\u001b[0;34m.\u001b[0m\u001b[0mdata\u001b[0m \u001b[0;34m==\u001b[0m \u001b[0mvalue\u001b[0m\u001b[0;34m:\u001b[0m\u001b[0;34m\u001b[0m\u001b[0;34m\u001b[0m\u001b[0m\n",
            "\u001b[0;31mNameError\u001b[0m: name 'values' is not defined"
          ]
        }
      ]
    },
    {
      "cell_type": "code",
      "metadata": {
        "id": "QjadqCyi0bZp"
      },
      "source": [
        ""
      ],
      "execution_count": null,
      "outputs": []
    }
  ]
}