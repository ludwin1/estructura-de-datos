{
  "nbformat": 4,
  "nbformat_minor": 0,
  "metadata": {
    "colab": {
      "name": "arboles.ipynb",
      "provenance": [],
      "authorship_tag": "ABX9TyOb/XuXdi1c93jdTIln1su8",
      "include_colab_link": true
    },
    "kernelspec": {
      "name": "python3",
      "display_name": "Python 3"
    },
    "language_info": {
      "name": "python"
    }
  },
  "cells": [
    {
      "cell_type": "markdown",
      "metadata": {
        "id": "view-in-github",
        "colab_type": "text"
      },
      "source": [
        "<a href=\"https://colab.research.google.com/github/ludwin1/estructura-de-datos/blob/main/arboles.ipynb\" target=\"_parent\"><img src=\"https://colab.research.google.com/assets/colab-badge.svg\" alt=\"Open In Colab\"/></a>"
      ]
    },
    {
      "cell_type": "code",
      "metadata": {
        "id": "F4OHbKpSt09m"
      },
      "source": [
        "class BinaryNode:\n",
        "  def __init__(self, value , left=None , rigth= None):\n",
        "    self.data = value\n",
        "    self.left = left\n",
        "    self.rigth = rigth\n"
      ],
      "execution_count": 54,
      "outputs": []
    },
    {
      "cell_type": "code",
      "metadata": {
        "id": "Q_QA8OY6ulgL"
      },
      "source": [
        "\n",
        "class TernaryNode:\n",
        "  def __init__(self, value , left=None , rigth= None,center= None):\n",
        "    self.data = value\n",
        "    self.left = left\n",
        "    self.center = center\n",
        "    self.rigth = rigth\n"
      ],
      "execution_count": 58,
      "outputs": []
    },
    {
      "cell_type": "code",
      "metadata": {
        "colab": {
          "base_uri": "https://localhost:8080/"
        },
        "id": "XH8kWNSdvJ8z",
        "outputId": "4a421270-179c-4ec2-91af-e6280170d5bf"
      },
      "source": [
        "root = BinaryNode(\"R\",BinaryNode(\"C\"),BinaryNode(\"H\"))\n",
        "print( root.left.data )\n"
      ],
      "execution_count": 39,
      "outputs": [
        {
          "output_type": "stream",
          "name": "stdout",
          "text": [
            "C\n"
          ]
        }
      ]
    },
    {
      "cell_type": "code",
      "metadata": {
        "colab": {
          "base_uri": "https://localhost:8080/"
        },
        "id": "kniTwmVIwcSf",
        "outputId": "dab7c571-235f-4f91-f64d-4ceddfc6696c"
      },
      "source": [
        "root = TernaryNode(4,TernaryNode(3,TernaryNode(5,left=TernaryNode(2)),\\\n",
        "        TernaryNode(5),TernaryNode(2)), None, TernaryNode(5) ) \n",
        "print(root.left.left.left.data)\n",
        "print(\".-.--.-.-.-.-.-.-.\")\n",
        "aux = root\n",
        "while aux.left != None :\n",
        "  aux = aux.left\n",
        "print(aux.data)\n",
        "print(\".-.--.-.-.-.-.-.-.\")\n",
        "print(root.left.rigth.data)"
      ],
      "execution_count": 61,
      "outputs": [
        {
          "output_type": "stream",
          "name": "stdout",
          "text": [
            "2\n",
            ".-.--.-.-.-.-.-.-.\n",
            "2\n",
            ".-.--.-.-.-.-.-.-.\n",
            "5\n"
          ]
        }
      ]
    },
    {
      "cell_type": "code",
      "metadata": {
        "colab": {
          "base_uri": "https://localhost:8080/"
        },
        "id": "ZDy3ItDD5Eqh",
        "outputId": "b23dcc53-024c-4c79-f1d4-fd75accdf943"
      },
      "source": [
        "root = BinaryNode(\"santi\",None, BinaryNode( \"jesus\",BinaryNode(\"pedro\",None, BinaryNode(\"pedro chikito\"))))\n",
        "print( root.rigth.left.rigth.data )"
      ],
      "execution_count": 74,
      "outputs": [
        {
          "output_type": "stream",
          "name": "stdout",
          "text": [
            "pedro chikito\n"
          ]
        }
      ]
    }
  ]
}