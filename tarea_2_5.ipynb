{
  "nbformat": 4,
  "nbformat_minor": 0,
  "metadata": {
    "colab": {
      "name": "tarea 2.5.ipynb",
      "provenance": [],
      "authorship_tag": "ABX9TyPYqDCWiKMPFgFBau2L8Fu4",
      "include_colab_link": true
    },
    "kernelspec": {
      "name": "python3",
      "display_name": "Python 3"
    },
    "language_info": {
      "name": "python"
    }
  },
  "cells": [
    {
      "cell_type": "markdown",
      "metadata": {
        "id": "view-in-github",
        "colab_type": "text"
      },
      "source": [
        "<a href=\"https://colab.research.google.com/github/ludwin1/estructura-de-datos/blob/main/tarea_2_5.ipynb\" target=\"_parent\"><img src=\"https://colab.research.google.com/assets/colab-badge.svg\" alt=\"Open In Colab\"/></a>"
      ]
    },
    {
      "cell_type": "code",
      "metadata": {
        "id": "Gg6HhvLhoQxx",
        "colab": {
          "base_uri": "https://localhost:8080/",
          "height": 35
        },
        "outputId": "e66f630e-eb47-424b-b2e6-4bc5a538412a"
      },
      "source": [
        "#'''setItem ( dato , index ) --> establecer un elemento en la posición establecida\n",
        "#'''#setitem\n"
      ],
      "execution_count": null,
      "outputs": [
        {
          "output_type": "execute_result",
          "data": {
            "application/vnd.google.colaboratory.intrinsic+json": {
              "type": "string"
            },
            "text/plain": [
              "'setItem ( dato , index ) --> establecer un elemento en la posición establecida\\n'"
            ]
          },
          "metadata": {},
          "execution_count": 19
        }
      ]
    },
    {
      "cell_type": "code",
      "metadata": {
        "id": "_IkJxJ14oWWD",
        "colab": {
          "base_uri": "https://localhost:8080/",
          "height": 35
        },
        "outputId": "9ba51e14-290a-4f22-b3c5-fb0f827c4ca0"
      },
      "source": [
        "\n",
        "#getLenght()  🡪 Obtener el tamaño del arreglo.\n"
      ],
      "execution_count": null,
      "outputs": [
        {
          "output_type": "execute_result",
          "data": {
            "application/vnd.google.colaboratory.intrinsic+json": {
              "type": "string"
            },
            "text/plain": [
              "'\\ngetLenght()  🡪 Obtener el tamaño del arreglo.\\n'"
            ]
          },
          "metadata": {},
          "execution_count": 20
        }
      ]
    },
    {
      "cell_type": "code",
      "metadata": {
        "colab": {
          "base_uri": "https://localhost:8080/"
        },
        "id": "Aq6R98UGfg1I",
        "outputId": "818c3715-8af5-4760-c699-840c6ddb0002"
      },
      "source": [
        "#'''\n",
        "#clear( dato) 🡪 establece todos los valores del ADT al valor enviado en dato. \n",
        "mi_conjunto = {1, 5,6,7,2,3,4,6,5.7,\"equisde\"}\n",
        "print(mi_conjunto)\n",
        "mi_conjunto.discard(7)\n",
        "\n",
        "mi_conjunto.clear()\n",
        "print(mi_conjunto)"
      ],
      "execution_count": null,
      "outputs": [
        {
          "output_type": "stream",
          "name": "stdout",
          "text": [
            "{1, 2, 3, 4, 5, 6, 7, 5.7, 'equisde'}\n",
            "set()\n"
          ]
        }
      ]
    }
  ]
}