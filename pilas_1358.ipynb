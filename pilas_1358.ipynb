{
  "nbformat": 4,
  "nbformat_minor": 0,
  "metadata": {
    "colab": {
      "name": "pilas_1358.ipynb",
      "provenance": [],
      "authorship_tag": "ABX9TyOzm0/K726rLqV+p/khQZRW",
      "include_colab_link": true
    },
    "kernelspec": {
      "name": "python3",
      "display_name": "Python 3"
    },
    "language_info": {
      "name": "python"
    }
  },
  "cells": [
    {
      "cell_type": "markdown",
      "metadata": {
        "id": "view-in-github",
        "colab_type": "text"
      },
      "source": [
        "<a href=\"https://colab.research.google.com/github/ludwin1/estructura-de-datos/blob/main/pilas_1358.ipynb\" target=\"_parent\"><img src=\"https://colab.research.google.com/assets/colab-badge.svg\" alt=\"Open In Colab\"/></a>"
      ]
    },
    {
      "cell_type": "code",
      "metadata": {
        "id": "_vsQEdLLUCsU"
      },
      "source": [
        "class StackADT:\n",
        "  def __init__( self  ):\n",
        "   self.data = list()\n",
        "   self.tope = 0\n",
        "\n",
        "  def is_empty( self ):\n",
        "    return self.tope == 0\n",
        "\n",
        "  def length( self ):\n",
        "    return self.tope\n",
        "\n",
        "  def pop( self ):\n",
        "    if not self.is_empty():\n",
        "      self.tope -=  1\n",
        "      return self.data.pop()\n",
        "    \n",
        "          \n",
        "  def peek( self ):\n",
        "    return self.data[ self.tope - 1 ]\n",
        "    \n",
        "  def push( self , value ):\n",
        "    self.data.append( value )\n",
        "    self.tope +=1\n",
        "\n",
        "  def to_string( self ):\n",
        "    print(\"estado de la pila es:\")\n",
        "    for elem in self.data:\n",
        "      print(f\"| { elem } |\")"
      ],
      "execution_count": 76,
      "outputs": []
    },
    {
      "cell_type": "code",
      "metadata": {
        "colab": {
          "base_uri": "https://localhost:8080/"
        },
        "id": "GqgsrJHpXR7V",
        "outputId": "7500506d-2944-406a-c37d-099b0d305ed0"
      },
      "source": [
        "pila = StackADT()\n",
        "pila.push(10)\n",
        "pila.push(20)\n",
        "pila.push(30)\n",
        "pila.to_string()\n",
        "\n",
        "print(\"llamada a peek\",pila.peek())\n",
        "print(\"llamada a pop\",pila.pop())\n",
        "pila.to_string()\n",
        "pila.push(25)\n",
        "pila.push(26)\n",
        "print(\"despues de meter 25 y 26\")\n",
        "pila.pop()\n",
        "print(f\"la pila tiene  {pila.length()} elementos\")\n",
        "pila.to_string()\n"
      ],
      "execution_count": 77,
      "outputs": [
        {
          "output_type": "stream",
          "name": "stdout",
          "text": [
            "estado de la pila es:\n",
            "| 10 |\n",
            "| 20 |\n",
            "| 30 |\n",
            "llamada a peek 30\n",
            "llamada a pop 30\n",
            "estado de la pila es:\n",
            "| 10 |\n",
            "| 20 |\n",
            "despues de meter 25 y 26\n",
            "la pila tiene  3 elementos\n",
            "estado de la pila es:\n",
            "| 10 |\n",
            "| 20 |\n",
            "| 25 |\n"
          ]
        }
      ]
    },
    {
      "cell_type": "code",
      "metadata": {
        "id": "k8H6kLBjegz8"
      },
      "source": [
        "class Array2D():\n",
        "  def __init__(self, ren, col):\n",
        "    self.__columnas = col\n",
        "    self.__renglones = ren\n",
        "    self.__data = [[ 0 for i in range(col)]for i in range (ren)]\n",
        "  def to_string(self):\n",
        "    for i in range(self.__renglones):\n",
        "      print(self.__data[i])\n",
        "  def clear(self, dato):\n",
        "    for i in range (self.__renglones):\n",
        "      for x in range(self.__columnas):\n",
        "        self.__data[i][x] = dato\n",
        "  def get_row_size(self):\n",
        "    return self.__renglones\n",
        "  def get_col_size(self):\n",
        "    return self.__columnas\n",
        "  def set_item(self,ren,col,dato):\n",
        "    self.__data[ren][col] = dato\n",
        "  def get_item(self,ren,col):\n",
        "    return self.__data[ren][col]"
      ],
      "execution_count": 83,
      "outputs": []
    },
    {
      "cell_type": "code",
      "metadata": {
        "id": "HXkF0VebqgNs"
      },
      "source": [
        "class LaberintoADT:\n",
        "  def __init__ (Self , archivo):\n",
        "    self.laberinto = None  #array2d\n",
        "    self.salida = None\n",
        "    self.entrada = None\n",
        "    self.camino = StackADT()\n",
        "    self.inicializa ( archivo )\n",
        "    self.laberinto.to_string()\n",
        "    print(\"stack\")\n",
        "  \n",
        "  #p --> pared\n",
        "  #C --> corredor\n",
        "  #E --> Entrada\n",
        "  #S --> Salida\n",
        "  #X --> Ya visitado\n",
        " \n",
        "  def inicializa ( self , archivo) :\n",
        "    entrada = open( archivo , 'rt' )\n",
        "    self.laberinto = Array2D( int(entrada.readline().strip())  ,int(entrada.readline().strip()))\n",
        "    self.laberinto.clear('P')\n",
        "    lineas = entrada.readlines()\n",
        "    #print(\"lineas: \")\n",
        "    #print(lineas)\n",
        "    for r in range (len(lineas)):\n",
        "      lineaBis = lineas[r].strip().split(',')\n",
        "      for c in range(len(lineas)):\n",
        "        self.laberinto.set_item(r,c,lineaBis[c])\n",
        "    #buscar la entrada\n",
        "    for r in range(self.laberinto.get_row_size()):\n",
        "      for c in range(self.laberinto.get_col_size()):\n",
        "        if self.laberinto.get_item(r,c) == 'E':\n",
        "          self.camino.push((r,c))"
      ],
      "execution_count": 84,
      "outputs": []
    },
    {
      "cell_type": "code",
      "metadata": {
        "colab": {
          "base_uri": "https://localhost:8080/",
          "height": 282
        },
        "id": "rTFSTJ58uPwo",
        "outputId": "772284cb-45b3-408a-ee52-8dcb24f35ede"
      },
      "source": [
        "juego = LaberintoADT('entrada.txt')"
      ],
      "execution_count": 92,
      "outputs": [
        {
          "output_type": "error",
          "ename": "NameError",
          "evalue": "ignored",
          "traceback": [
            "\u001b[0;31m---------------------------------------------------------------------------\u001b[0m",
            "\u001b[0;31mNameError\u001b[0m                                 Traceback (most recent call last)",
            "\u001b[0;32m<ipython-input-92-c2f30af21b57>\u001b[0m in \u001b[0;36m<module>\u001b[0;34m()\u001b[0m\n\u001b[0;32m----> 1\u001b[0;31m \u001b[0mjuego\u001b[0m \u001b[0;34m=\u001b[0m \u001b[0mLaberintoADT\u001b[0m\u001b[0;34m(\u001b[0m\u001b[0;34m'entrada.txt'\u001b[0m\u001b[0;34m)\u001b[0m\u001b[0;34m\u001b[0m\u001b[0;34m\u001b[0m\u001b[0m\n\u001b[0m",
            "\u001b[0;32m<ipython-input-84-71a39b770343>\u001b[0m in \u001b[0;36m__init__\u001b[0;34m(Self, archivo)\u001b[0m\n\u001b[1;32m      1\u001b[0m \u001b[0;32mclass\u001b[0m \u001b[0mLaberintoADT\u001b[0m\u001b[0;34m:\u001b[0m\u001b[0;34m\u001b[0m\u001b[0;34m\u001b[0m\u001b[0m\n\u001b[1;32m      2\u001b[0m   \u001b[0;32mdef\u001b[0m \u001b[0m__init__\u001b[0m \u001b[0;34m(\u001b[0m\u001b[0mSelf\u001b[0m \u001b[0;34m,\u001b[0m \u001b[0marchivo\u001b[0m\u001b[0;34m)\u001b[0m\u001b[0;34m:\u001b[0m\u001b[0;34m\u001b[0m\u001b[0;34m\u001b[0m\u001b[0m\n\u001b[0;32m----> 3\u001b[0;31m     \u001b[0mself\u001b[0m\u001b[0;34m.\u001b[0m\u001b[0mlaberinto\u001b[0m \u001b[0;34m=\u001b[0m \u001b[0;32mNone\u001b[0m  \u001b[0;31m#array2d\u001b[0m\u001b[0;34m\u001b[0m\u001b[0;34m\u001b[0m\u001b[0m\n\u001b[0m\u001b[1;32m      4\u001b[0m     \u001b[0mself\u001b[0m\u001b[0;34m.\u001b[0m\u001b[0msalida\u001b[0m \u001b[0;34m=\u001b[0m \u001b[0;32mNone\u001b[0m\u001b[0;34m\u001b[0m\u001b[0;34m\u001b[0m\u001b[0m\n\u001b[1;32m      5\u001b[0m     \u001b[0mself\u001b[0m\u001b[0;34m.\u001b[0m\u001b[0mentrada\u001b[0m \u001b[0;34m=\u001b[0m \u001b[0;32mNone\u001b[0m\u001b[0;34m\u001b[0m\u001b[0;34m\u001b[0m\u001b[0m\n",
            "\u001b[0;31mNameError\u001b[0m: name 'self' is not defined"
          ]
        }
      ]
    }
  ]
}