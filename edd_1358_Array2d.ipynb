{
  "nbformat": 4,
  "nbformat_minor": 0,
  "metadata": {
    "colab": {
      "name": "edd_1358_Array2d.ipynb",
      "provenance": [],
      "collapsed_sections": [],
      "authorship_tag": "ABX9TyNYlt5SlSjdenogHaqLWRh0",
      "include_colab_link": true
    },
    "kernelspec": {
      "name": "python3",
      "display_name": "Python 3"
    },
    "language_info": {
      "name": "python"
    }
  },
  "cells": [
    {
      "cell_type": "markdown",
      "metadata": {
        "id": "view-in-github",
        "colab_type": "text"
      },
      "source": [
        "<a href=\"https://colab.research.google.com/github/ludwin1/estructura-de-datos/blob/main/edd_1358_Array2d.ipynb\" target=\"_parent\"><img src=\"https://colab.research.google.com/assets/colab-badge.svg\" alt=\"Open In Colab\"/></a>"
      ]
    },
    {
      "cell_type": "code",
      "metadata": {
        "colab": {
          "base_uri": "https://localhost:8080/"
        },
        "id": "cpwUi0wxC1KG",
        "outputId": "506a917d-3a07-4613-e8bf-55500d47ccf4"
      },
      "source": [
        "!pip install simple_chalk"
      ],
      "execution_count": 34,
      "outputs": [
        {
          "output_type": "stream",
          "name": "stdout",
          "text": [
            "Collecting simple_chalk\n",
            "  Downloading simple_chalk-0.1.0.tar.gz (13 kB)\n",
            "Building wheels for collected packages: simple-chalk\n",
            "  Building wheel for simple-chalk (setup.py) ... \u001b[?25l\u001b[?25hdone\n",
            "  Created wheel for simple-chalk: filename=simple_chalk-0.1.0-py3-none-any.whl size=22163 sha256=5c825af78675cf989bcbf5352b26f00ee8901eecf6e4e2a7c94ea188f0dac2e6\n",
            "  Stored in directory: /root/.cache/pip/wheels/24/e2/84/d54838032016039eef79df1137b91defaa6db068d825dfcdcd\n",
            "Successfully built simple-chalk\n",
            "Installing collected packages: simple-chalk\n",
            "Successfully installed simple-chalk-0.1.0\n"
          ]
        }
      ]
    },
    {
      "cell_type": "code",
      "metadata": {
        "id": "JR83n3-A6T__"
      },
      "source": [
        "class Array2D():\n",
        "  def __init__(self, ren ,col):\n",
        "    self.__columnas = col\n",
        "    self.__renglones = ren\n",
        "    self.__data = [[0 for i in range (col )]for i in range(ren )]\n",
        "  def to_string(self):\n",
        "    print(self.__data)\n",
        "    for i in range(self.__renglones):\n",
        "      print(self.__data[i])\n",
        "  def clear(self, dato):\n",
        "    for i in range (self.__renglones):\n",
        "      for x in range(self.__columnas):\n",
        "        self.__data[i][x] = dato\n",
        "  def get_row_size(self):\n",
        "    return (self.__renglones)\n",
        "  def get_col_size(self):\n",
        "    return (self.__columnas)\n",
        "  def set_item(self,ren,col,dato):\n",
        "    self.__data[ren][col] = dato\n",
        "    \n",
        "  def get_item(self,ren,col):\n",
        "    return self.__data[ren][col]"
      ],
      "execution_count": null,
      "outputs": []
    },
    {
      "cell_type": "code",
      "metadata": {
        "colab": {
          "base_uri": "https://localhost:8080/"
        },
        "id": "08X2tDxF-tGw",
        "outputId": "1a4d33da-dcef-45ad-fe28-f1350aa763b4"
      },
      "source": [
        "tablero = Array2D(6,5) \n",
        "tablero.to_string()\n",
        "tablero.clear('N')\n",
        "print('------poblacion inicial----')\n",
        "tablero.to_string()\n",
        "\n",
        "print(\"--------una idea de como establecer la población inicial------\")\n",
        "poblacion_inicial = [(2,2) , (3,1) , (3,2) , (3,3)]\n",
        "\n",
        "for par in poblacion_inicial:\n",
        "  tablero.set_item(par[0],par[1], 'v')\n",
        "\n",
        "print(\"----poblacion inicial---\")\n",
        "tablero.to_string()\n",
        "# esto no se debe hacer porque es dificil de darle mantenimiento"
      ],
      "execution_count": 23,
      "outputs": [
        {
          "output_type": "stream",
          "name": "stdout",
          "text": [
            "[[0, 0, 0, 0, 0], [0, 0, 0, 0, 0], [0, 0, 0, 0, 0], [0, 0, 0, 0, 0], [0, 0, 0, 0, 0], [0, 0, 0, 0, 0]]\n",
            "[0, 0, 0, 0, 0]\n",
            "[0, 0, 0, 0, 0]\n",
            "[0, 0, 0, 0, 0]\n",
            "[0, 0, 0, 0, 0]\n",
            "[0, 0, 0, 0, 0]\n",
            "[0, 0, 0, 0, 0]\n",
            "------poblacion inicial----\n",
            "[['N', 'N', 'N', 'N', 'N'], ['N', 'N', 'N', 'N', 'N'], ['N', 'N', 'N', 'N', 'N'], ['N', 'N', 'N', 'N', 'N'], ['N', 'N', 'N', 'N', 'N'], ['N', 'N', 'N', 'N', 'N']]\n",
            "['N', 'N', 'N', 'N', 'N']\n",
            "['N', 'N', 'N', 'N', 'N']\n",
            "['N', 'N', 'N', 'N', 'N']\n",
            "['N', 'N', 'N', 'N', 'N']\n",
            "['N', 'N', 'N', 'N', 'N']\n",
            "['N', 'N', 'N', 'N', 'N']\n",
            "--------una idea de como establecer la población inicial------\n",
            "----poblacion inicial---\n",
            "[['N', 'N', 'N', 'N', 'N'], ['N', 'N', 'N', 'N', 'N'], ['N', 'N', 'v', 'N', 'N'], ['N', 'v', 'v', 'v', 'N'], ['N', 'N', 'N', 'N', 'N'], ['N', 'N', 'N', 'N', 'N']]\n",
            "['N', 'N', 'N', 'N', 'N']\n",
            "['N', 'N', 'N', 'N', 'N']\n",
            "['N', 'N', 'v', 'N', 'N']\n",
            "['N', 'v', 'v', 'v', 'N']\n",
            "['N', 'N', 'N', 'N', 'N']\n",
            "['N', 'N', 'N', 'N', 'N']\n"
          ]
        }
      ]
    },
    {
      "cell_type": "markdown",
      "metadata": {
        "id": "S9LOKEqTG6wQ"
      },
      "source": [
        "#¿como deberia programarse el juego de la vida?\n",
        "### r.- programar un ADT especifico para empaquetar la lógica del juego de la vida\n",
        "\n",
        "\n",
        "\n"
      ]
    },
    {
      "cell_type": "code",
      "metadata": {
        "id": "ofj8rqKZJ1Q_"
      },
      "source": [
        "\"\"\"\n",
        "EN EL CONSTRUCTOR:\n",
        "   lista_pog:inicial es una lista de tuplas que contienen las cordenadas\n",
        "   ((ren, col)) de las celulas vivas en la pobñacion inicial\n",
        "\n",
        "\"\"\"\n",
        "\n",
        "class JuegoDeLaVidaADT:\n",
        "  def __init__(self,rens,cols, lista_pob_inicial, generaciones):\n",
        "    self.tablero = Array2D( rens, cols)#que ya conocemos\n",
        "    self.generaciones = generaciones# cuantas gen jugara el usuario\n",
        "    self.gen = 1# se inicializa lageneracion\n",
        "    self.tablero.clear('M')\n",
        "    for par in lista_pob_inicial:\n",
        "      self.tablero.set_item(par[0], par[1], 'v')\n",
        "  def to_string(self):\n",
        "    print(f\"------GENERACIÓN {self.gen}\")\n",
        "    self.tablero.to_string()\n",
        "\n",
        "  \"\"\"\n",
        "  get_vecinos( r, c)\n",
        "  va a calcular los vecinos de la celula en la pos. r , c\n",
        "  y regresará las coordenadas de los mismos\n",
        "\n",
        "  get_vecinos(0,0) -> [(0,1),(1,0),(1,1)]\n",
        "  get_vecinos(2,1) -> [(1,0),(1,1),(1,2)]\n",
        "  \"\"\"\n",
        "  def get_vecinos( self,r , c ):\n",
        "    vecinos = []\n",
        "    for ren in range (r -1, r + 2, 1):\n",
        "      for col in range(c - 1, c + 2, 1):\n",
        "        if ren < 0 or ren >= self.tablero.get_row_size() or col < 0 or col >= self.tablero.get_col_size() or (ren==r and col==c):\n",
        "          pass \n",
        "        else:\n",
        "          vecinos.append((ren, col))\n",
        "    return vecinos\n",
        "  \"\"\"\n",
        "  get_vecinos_vivos( r , c )\n",
        "  \"\"\"\n",
        "  def get_vecinos_vivos(self , r, c):\n",
        "    vivos = 0\n",
        "    vecinos = self.get_vecinos(r, c)\n",
        "    for par in vecinos:\n",
        "      if self.tablero.get_item(par[0],par[1])=='v':\n",
        "        vivos += 1   \n",
        "    return vivos\n",
        "\"\"\"\n",
        "recorrer todo el grid para aplicar las 4 reglas celula por \n",
        "celula, ir agregando el resultado en una copia del tablero oiginal\n",
        "al final sustituir el tablero general por el local.\n",
        "\"\"\"\n",
        "def aplicar_reglas():\n",
        "  pass\n",
        "  "
      ],
      "execution_count": 31,
      "outputs": []
    },
    {
      "cell_type": "code",
      "metadata": {
        "colab": {
          "base_uri": "https://localhost:8080/"
        },
        "id": "FqT6LvOFHAta",
        "outputId": "819f0d2e-fdd0-4d0b-83b7-7826dde0470e"
      },
      "source": [
        "juego = JuegoDeLaVidaADT(6,5,[(2,2),(3,1),(3,2),(3,3)],5)\n",
        "juego.to_string()\n",
        "print(\"vecinos de 5,4\")\n",
        "print(juego.get_vecinos(5,4))\n",
        "r = 2\n",
        "c = 2\n",
        "print(f\"vecinos vivos de {r},{c} son  {juego.get_vecinos_vivos(r,c)}\")"
      ],
      "execution_count": 33,
      "outputs": [
        {
          "output_type": "stream",
          "name": "stdout",
          "text": [
            "------GENERACIÓN 1\n",
            "[['M', 'M', 'M', 'M', 'M'], ['M', 'M', 'M', 'M', 'M'], ['M', 'M', 'v', 'M', 'M'], ['M', 'v', 'v', 'v', 'M'], ['M', 'M', 'M', 'M', 'M'], ['M', 'M', 'M', 'M', 'M']]\n",
            "['M', 'M', 'M', 'M', 'M']\n",
            "['M', 'M', 'M', 'M', 'M']\n",
            "['M', 'M', 'v', 'M', 'M']\n",
            "['M', 'v', 'v', 'v', 'M']\n",
            "['M', 'M', 'M', 'M', 'M']\n",
            "['M', 'M', 'M', 'M', 'M']\n",
            "vecinos de 5,4\n",
            "[(4, 3), (4, 4), (5, 3)]\n",
            "vecinos vivos de 2,2 son  3\n"
          ]
        }
      ]
    },
    {
      "cell_type": "code",
      "metadata": {
        "colab": {
          "base_uri": "https://localhost:8080/"
        },
        "id": "HcsLR5SIDTAE",
        "outputId": "bee9248f-0af3-4e61-a7b3-eda5b35d0f96"
      },
      "source": [
        "from simple_chalk import chalk\n",
        "\n",
        "\n",
        "nombre = \"jose\" \n",
        "edad = 19 \n",
        "print(nombre , edad)\n",
        "print(chalk.green(nombre ))\n",
        "print(chalk.blue.bgWhite(edad))"
      ],
      "execution_count": 40,
      "outputs": [
        {
          "output_type": "stream",
          "name": "stdout",
          "text": [
            "jose 19\n",
            "\u001b[32mjose\u001b[0m\n",
            "\u001b[31;47m19\u001b[0m\n"
          ]
        }
      ]
    }
  ]
}