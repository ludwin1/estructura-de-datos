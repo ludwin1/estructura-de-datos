{
  "nbformat": 4,
  "nbformat_minor": 0,
  "metadata": {
    "colab": {
      "name": "tarea 2",
      "provenance": [],
      "authorship_tag": "ABX9TyPL10LO6fGEwTftLhOx88cR",
      "include_colab_link": true
    },
    "kernelspec": {
      "name": "python3",
      "display_name": "Python 3"
    },
    "language_info": {
      "name": "python"
    }
  },
  "cells": [
    {
      "cell_type": "markdown",
      "metadata": {
        "id": "view-in-github",
        "colab_type": "text"
      },
      "source": [
        "<a href=\"https://colab.research.google.com/github/ludwin1/estructura-de-datos/blob/main/tarea_2.ipynb\" target=\"_parent\"><img src=\"https://colab.research.google.com/assets/colab-badge.svg\" alt=\"Open In Colab\"/></a>"
      ]
    },
    {
      "cell_type": "code",
      "metadata": {
        "colab": {
          "base_uri": "https://localhost:8080/"
        },
        "id": "Q7-U7P1Nrst2",
        "outputId": "56fce453-4601-45f9-8c1a-b559d53bd070"
      },
      "source": [
        "'''Crear una lista de enteros en Python y realizar la suma con recursividad, el\n",
        "caso base es cuando la lista esté vacía.'''\n",
        "n=int(input(\"¿cuantos caracteres hay en la lista?   :  \"))\n",
        "print(\"la lista es:  \")\n",
        "def sumaRec(numero):\n",
        "  if numero == 1:\n",
        "    return 1\n",
        "  else:\n",
        "    return numero + sumaRec(numero-1)\n",
        "\n",
        "lista=[]\n",
        "x=1\n",
        "for x in range(n):\n",
        "  \n",
        "  lista.append(x+1)\n",
        "  x=x+1\n",
        "    \n",
        "print(lista)\n",
        "\n",
        "print(\"la suma de estos numeros es:\",sumaRec(n))"
      ],
      "execution_count": 102,
      "outputs": [
        {
          "output_type": "stream",
          "name": "stdout",
          "text": [
            "¿cuantos caracteres hay en la lista?   :  5\n",
            "la lista es:  \n",
            "[1, 2, 3, 4, 5]\n",
            "la suma de estos numeros es: 15\n"
          ]
        }
      ]
    },
    {
      "cell_type": "code",
      "metadata": {
        "colab": {
          "base_uri": "https://localhost:8080/"
        },
        "id": "sV-F1nUu2GOC",
        "outputId": "93eb6b47-9882-4d8d-a688-5cee48ff8c77"
      },
      "source": [
        "''' Hacer un contador regresivo con recursión y cuando termine \n",
        "( conteo llega a cero) que imprima la palabra BOOMMMMM !!!.'''\n",
        "\n",
        "import time \n",
        "print(\"💣\")\n",
        "n=5\n",
        "def printRev ( n ):\n",
        "  if n > 0:\n",
        "    print( n )\n",
        "    time.sleep(1)\n",
        "    printRev( n - 1 )\n",
        "    \n",
        "printRev( n )\n",
        "print(\"🎇🎇BOOMMMMM !!!🎇🎇\")"
      ],
      "execution_count": 96,
      "outputs": [
        {
          "output_type": "stream",
          "name": "stdout",
          "text": [
            "💣\n",
            "5\n",
            "4\n",
            "3\n",
            "2\n",
            "1\n",
            "🎇🎇BOOMMMMM !!!🎇🎇\n"
          ]
        }
      ]
    },
    {
      "cell_type": "code",
      "metadata": {
        "colab": {
          "base_uri": "https://localhost:8080/"
        },
        "id": "_kZbCZRC4GRG",
        "outputId": "8ba71537-17bb-48ab-897e-8a97550224a1"
      },
      "source": [
        "'''Eliminar de una lista o arreglo, \n",
        "el elemento que está en la posición media. Si\n",
        "la dimensión del arreglo es par, \n",
        "sacar el elemento previo al punto medio.'''\n",
        "\n",
        "n=int(input(\"¿cuantos caracteres son de la lista?\"))\n",
        "lista=[]\n",
        "x=1\n",
        "mitad=int(input(\"escribe la mitad del numero\"))#no supe como quitar la mitad del numero:(\n",
        "for x in range(n):\n",
        "  \n",
        "  lista.append(x+1)\n",
        "  x=x+1\n",
        "\n",
        "print(lista)\n"
      ],
      "execution_count": 144,
      "outputs": [
        {
          "output_type": "stream",
          "name": "stdout",
          "text": [
            "¿cuantos caracteres son de la lista?6\n",
            "[1, 2, 3, 4, 5, 6]\n"
          ]
        }
      ]
    }
  ]
}